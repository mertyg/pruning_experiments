{
 "cells": [
  {
   "cell_type": "code",
   "execution_count": 1,
   "metadata": {},
   "outputs": [
    {
     "name": "stderr",
     "output_type": "stream",
     "text": [
      "C:\\Users\\Merdo\\Anaconda3\\lib\\site-packages\\h5py\\__init__.py:36: FutureWarning: Conversion of the second argument of issubdtype from `float` to `np.floating` is deprecated. In future, it will be treated as `np.float64 == np.dtype(float).type`.\n",
      "  from ._conv import register_converters as _register_converters\n"
     ]
    }
   ],
   "source": [
    "import tensorflow as tf\n",
    "from tqdm import tqdm\n",
    "import matplotlib.pyplot as plt\n",
    "import numpy as np\n",
    "tf.enable_eager_execution()\n",
    "tf.set_random_seed(1997)\n",
    "from experiment import Experiment\n",
    "from network import FeedforwardNet"
   ]
  },
  {
   "cell_type": "markdown",
   "metadata": {},
   "source": [
    "## Initialization"
   ]
  },
  {
   "cell_type": "code",
   "execution_count": 2,
   "metadata": {},
   "outputs": [],
   "source": [
    "data = tf.keras.datasets.mnist.load_data()\n",
    "FLAGS = tf.flags.FLAGS\n",
    "tf.flags.DEFINE_integer(\"epochs\", 10, \"number of epochs\")\n",
    "tf.flags.DEFINE_integer(\"batch_size\", 64, \"batch_size\")\n",
    "tf.flags.DEFINE_string('f', '', 'kernel') #to prevent unknown flag error."
   ]
  },
  {
   "cell_type": "markdown",
   "metadata": {},
   "source": [
    "# Training phase of the network"
   ]
  },
  {
   "cell_type": "code",
   "execution_count": 3,
   "metadata": {},
   "outputs": [
    {
     "name": "stderr",
     "output_type": "stream",
     "text": [
      "100%|████████████████████████████████████████████████████████████████████████████████| 938/938 [00:21<00:00, 45.11it/s]\n"
     ]
    },
    {
     "name": "stdout",
     "output_type": "stream",
     "text": [
      "Epoch:  0 Accuracy:  0.9393157\n"
     ]
    },
    {
     "name": "stderr",
     "output_type": "stream",
     "text": [
      "100%|████████████████████████████████████████████████████████████████████████████████| 938/938 [00:21<00:00, 43.59it/s]\n"
     ]
    },
    {
     "name": "stdout",
     "output_type": "stream",
     "text": [
      "Epoch:  1 Accuracy:  0.97193164\n"
     ]
    },
    {
     "name": "stderr",
     "output_type": "stream",
     "text": [
      "100%|████████████████████████████████████████████████████████████████████████████████| 938/938 [00:21<00:00, 43.85it/s]\n"
     ]
    },
    {
     "name": "stdout",
     "output_type": "stream",
     "text": [
      "Epoch:  2 Accuracy:  0.9805104\n"
     ]
    },
    {
     "name": "stderr",
     "output_type": "stream",
     "text": [
      "100%|████████████████████████████████████████████████████████████████████████████████| 938/938 [00:22<00:00, 42.59it/s]\n"
     ]
    },
    {
     "name": "stdout",
     "output_type": "stream",
     "text": [
      "Epoch:  3 Accuracy:  0.98494136\n"
     ]
    },
    {
     "name": "stderr",
     "output_type": "stream",
     "text": [
      "100%|████████████████████████████████████████████████████████████████████████████████| 938/938 [00:21<00:00, 43.89it/s]\n"
     ]
    },
    {
     "name": "stdout",
     "output_type": "stream",
     "text": [
      "Epoch:  4 Accuracy:  0.9870402\n"
     ]
    },
    {
     "name": "stderr",
     "output_type": "stream",
     "text": [
      "100%|████████████████████████████████████████████████████████████████████████████████| 938/938 [00:21<00:00, 44.22it/s]\n"
     ]
    },
    {
     "name": "stdout",
     "output_type": "stream",
     "text": [
      "Epoch:  5 Accuracy:  0.98897254\n"
     ]
    },
    {
     "name": "stderr",
     "output_type": "stream",
     "text": [
      "100%|████████████████████████████████████████████████████████████████████████████████| 938/938 [00:22<00:00, 42.43it/s]\n"
     ]
    },
    {
     "name": "stdout",
     "output_type": "stream",
     "text": [
      "Epoch:  6 Accuracy:  0.9904218\n"
     ]
    },
    {
     "name": "stderr",
     "output_type": "stream",
     "text": [
      "100%|████████████████████████████████████████████████████████████████████████████████| 938/938 [00:22<00:00, 42.01it/s]\n"
     ]
    },
    {
     "name": "stdout",
     "output_type": "stream",
     "text": [
      "Epoch:  7 Accuracy:  0.99163777\n"
     ]
    },
    {
     "name": "stderr",
     "output_type": "stream",
     "text": [
      "100%|████████████████████████████████████████████████████████████████████████████████| 938/938 [00:22<00:00, 42.59it/s]\n"
     ]
    },
    {
     "name": "stdout",
     "output_type": "stream",
     "text": [
      "Epoch:  8 Accuracy:  0.99305373\n"
     ]
    },
    {
     "name": "stderr",
     "output_type": "stream",
     "text": [
      "100%|████████████████████████████████████████████████████████████████████████████████| 938/938 [00:22<00:00, 42.46it/s]\n"
     ]
    },
    {
     "name": "stdout",
     "output_type": "stream",
     "text": [
      "Epoch:  9 Accuracy:  0.9926539\n"
     ]
    }
   ],
   "source": [
    "dense_model = FeedforwardNet(data, FLAGS)\n",
    "dense_model.build_graph()\n",
    "accuracies = dense_model.train()"
   ]
  },
  {
   "cell_type": "code",
   "execution_count": 4,
   "metadata": {},
   "outputs": [
    {
     "data": {
      "image/png": "[encoded data removed]",
      "text/plain": [
       "<matplotlib.figure.Figure at 0x20a035cc6a0>"
      ]
     },
     "metadata": {},
     "output_type": "display_data"
    },
    {
     "name": "stdout",
     "output_type": "stream",
     "text": [
      "Test Accuracy:  0.97969747\n"
     ]
    }
   ],
   "source": [
    "plt.plot(accuracies)\n",
    "plt.ylabel(\"Accuracy\")\n",
    "plt.xlabel(\"Epoch\")\n",
    "plt.title(\"Dense Training Phase\")\n",
    "plt.show()\n",
    "prune_list = [0, 25, 50, 60, 70, 80, 90, 95, 97, 99]\n",
    "experiments = Experiment(dense_model.network, dense_model.test_data, prune_list)\n",
    "test_dense = experiments.tester()\n",
    "print(\"Test Accuracy: \", test_dense)"
   ]
  },
  {
   "cell_type": "markdown",
   "metadata": {},
   "source": [
    "# Pruning Experiments"
   ]
  },
  {
   "cell_type": "code",
   "execution_count": 5,
   "metadata": {},
   "outputs": [
    {
     "data": {
      "image/png": "[encoded data removed]",
      "text/plain": [
       "<matplotlib.figure.Figure at 0x20a7c2f86d8>"
      ]
     },
     "metadata": {},
     "output_type": "display_data"
    }
   ],
   "source": [
    "results_weight = experiments.prune_test(\"weight\")\n",
    "results_unit = experiments.prune_test(\"unit\")\n",
    "ax = plt.axes()\n",
    "plt.plot(prune_list, results_weight, label=\"weight pruning\")\n",
    "plt.plot(prune_list, results_unit, label = \"unit pruning\")\n",
    "plt.ylabel(\"Accuracy\")\n",
    "plt.xlabel(\"Sparsity\")\n",
    "plt.title(\"Pruning\")\n",
    "ax.legend()\n",
    "plt.show()"
   ]
  },
  {
   "cell_type": "markdown",
   "metadata": {},
   "source": [
    "# Interpretation"
   ]
  },
  {
   "cell_type": "markdown",
   "metadata": {},
   "source": [
    "First of all, we notice that using either of the methods, we can get rid of more than 50% of the weights and a huge computational burden almost without hurting the performance of the algorithm. Regardless of the pruning approach, it can be said that in a large network a small subset of parameters are responsible for explaining the most of the variance in the data and it would make the model generalize better, less prone to overfitting and more efficient to use a pruning approach. \n",
    "\n",
    "It was found out that we can get rid of a higher burden using weight pruning. This is intuitive, by using individual weights we can more easily target the less important parameters. Less importance is in the sense that those parameters are making the smallest contribution to the prediction. As pointed out in the Optimal Brain Damage paper by Le Cun, the error function is quadratic in terms of small changes in weight parameters. Hence, removing a small magnitude weight from the network could only cause a very small change in the error function.\n",
    "\n",
    "As mentioned in the Pruned and Structurally Sparse Neural Networks by Simon Alford, the human brain exhibits very high sparsity with its connections, with each neuron connected to approximately 2000 of the 86 billion total neurons on average. The same argument follows for both brain and artifical networks: We need to use the energy efficiently. Even though pruning helps us make inference more efficient, there is still a huge learning phase which we train a dense and burdensome network. To get closer to mimicking the human brain, i think the focus should be on sparsifying networks during the training phase where we can utilize further regularization approaches."
   ]
  },
  {
   "cell_type": "markdown",
   "metadata": {},
   "source": [
    "## Resources:\n",
    "Yann LeCun, J. S. Denker, S. Solla, R. E. Howard, and L. D. Jackel. Optimal brain damage. In\n",
    "Advances in Neural Information Processing Systems (NIPS), 1990. \n",
    "<br>\n",
    "Simon Alford, Ryan Robinett, Lauren Milechin, Jeremy Kepner. Pruned and Structurally Sparse Neural Networks, arXiv:1810.00299, 2018\n",
    "https://www.tensorflow.org/tutorials/keras/\n",
    "<br>\n",
    "https://www.tensorflow.org/api_docs/python/tf"
   ]
  },
  {
   "cell_type": "code",
   "execution_count": null,
   "metadata": {},
   "outputs": [],
   "source": []
  }
 ],
 "metadata": {
  "kernelspec": {
   "display_name": "Python 3",
   "language": "python",
   "name": "python3"
  },
  "language_info": {
   "codemirror_mode": {
    "name": "ipython",
    "version": 3
   },
   "file_extension": ".py",
   "mimetype": "text/x-python",
   "name": "python",
   "nbconvert_exporter": "python",
   "pygments_lexer": "ipython3",
   "version": "3.6.4"
  }
 },
 "nbformat": 4,
 "nbformat_minor": 2
}
